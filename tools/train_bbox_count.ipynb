{
 "cells": [
  {
   "cell_type": "code",
   "execution_count": 1,
   "metadata": {},
   "outputs": [],
   "source": [
    "import json\n",
    "from collections import defaultdict"
   ]
  },
  {
   "cell_type": "code",
   "execution_count": 2,
   "metadata": {},
   "outputs": [],
   "source": [
    "json_file_path = '/data/ephemeral/home/dataset/newGT/train_kfold_0_newGT.json'"
   ]
  },
  {
   "cell_type": "code",
   "execution_count": 3,
   "metadata": {},
   "outputs": [],
   "source": [
    "with open(json_file_path, 'r') as f:\n",
    "    coco_data = json.load(f)"
   ]
  },
  {
   "cell_type": "code",
   "execution_count": 7,
   "metadata": {},
   "outputs": [
    {
     "name": "stdout",
     "output_type": "stream",
     "text": [
      "Category ID 0: 1065 bboxes\n",
      "Category ID 1: 5115 bboxes\n",
      "Category ID 2: 706 bboxes\n",
      "Category ID 3: 769 bboxes\n",
      "Category ID 4: 835 bboxes\n",
      "Category ID 5: 2350 bboxes\n",
      "Category ID 6: 1026 bboxes\n",
      "Category ID 7: 4151 bboxes\n",
      "Category ID 8: 143 bboxes\n",
      "Category ID 9: 377 bboxes\n"
     ]
    }
   ],
   "source": [
    "# annotations에서 각 클래스별 bbox 수를 카운트할 딕셔너리\n",
    "bbox_count_per_class = defaultdict(int)\n",
    "\n",
    "# annotations 섹션에서 각 annotation 확인\n",
    "for annotation in coco_data['annotations']:\n",
    "    category_id = annotation['category_id']  # 클래스 ID 추출\n",
    "    bbox_count_per_class[category_id] += 1  # 해당 클래스 ID의 bbox 수 증가\n",
    "\n",
    "sorted_bboxes = sorted(bbox_count_per_class.items(), key=lambda x: x[0])\n",
    "\n",
    "# 클래스별 bbox 수 출력\n",
    "for category_id, count in sorted_bboxes:\n",
    "    print(f\"Category ID {category_id}: {count} bboxes\")"
   ]
  }
 ],
 "metadata": {
  "kernelspec": {
   "display_name": "base",
   "language": "python",
   "name": "python3"
  },
  "language_info": {
   "codemirror_mode": {
    "name": "ipython",
    "version": 3
   },
   "file_extension": ".py",
   "mimetype": "text/x-python",
   "name": "python",
   "nbconvert_exporter": "python",
   "pygments_lexer": "ipython3",
   "version": "3.10.13"
  }
 },
 "nbformat": 4,
 "nbformat_minor": 2
}
